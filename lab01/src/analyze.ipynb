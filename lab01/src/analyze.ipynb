{
 "cells": [
  {
   "cell_type": "code",
   "execution_count": 7,
   "metadata": {},
   "outputs": [],
   "source": [
    "import re\n",
    "import pandas as pd\n",
    "import numpy as np"
   ]
  },
  {
   "cell_type": "code",
   "execution_count": 2,
   "metadata": {},
   "outputs": [],
   "source": [
    "path = '../test/test.csv'"
   ]
  },
  {
   "cell_type": "code",
   "execution_count": 3,
   "metadata": {},
   "outputs": [
    {
     "data": {
      "text/html": [
       "<div>\n",
       "<style scoped>\n",
       "    .dataframe tbody tr th:only-of-type {\n",
       "        vertical-align: middle;\n",
       "    }\n",
       "\n",
       "    .dataframe tbody tr th {\n",
       "        vertical-align: top;\n",
       "    }\n",
       "\n",
       "    .dataframe thead th {\n",
       "        text-align: right;\n",
       "    }\n",
       "</style>\n",
       "<table border=\"1\" class=\"dataframe\">\n",
       "  <thead>\n",
       "    <tr style=\"text-align: right;\">\n",
       "      <th></th>\n",
       "      <th>string</th>\n",
       "      <th>template</th>\n",
       "      <th>ids</th>\n",
       "    </tr>\n",
       "  </thead>\n",
       "  <tbody>\n",
       "    <tr>\n",
       "      <th>0</th>\n",
       "      <td>fNCLtBXoEPyVUIYMLjSXtaOJiVqYwiNXkcjbRVaYdHEDui...</td>\n",
       "      <td>aYdHEDuiDOBpzyDbskrfMyIORmDzpzosSVQtIHcdjpZYEKoI</td>\n",
       "      <td>[490, 385, 327, 225, 141, 38]</td>\n",
       "    </tr>\n",
       "    <tr>\n",
       "      <th>1</th>\n",
       "      <td>cfThlYQxyfgECAQxyfgERMEnnRlJzdRVvfmKeKUPiNYYlE...</td>\n",
       "      <td>QxyfgE</td>\n",
       "      <td>[496, 478, 433, 394, 385, 371, 361, 351, 332, ...</td>\n",
       "    </tr>\n",
       "    <tr>\n",
       "      <th>2</th>\n",
       "      <td>euXuRtWxmECcSToxSCwiIRNfefjspKIUsoLzSotdynuwhX...</td>\n",
       "      <td>XibKMYRWdeWfCKcwUHNEnWdcsLsYUkPvgPBoTMLOmU</td>\n",
       "      <td>[398, 264, 220, 160, 104, 45]</td>\n",
       "    </tr>\n",
       "  </tbody>\n",
       "</table>\n",
       "</div>"
      ],
      "text/plain": [
       "                                              string  \\\n",
       "0  fNCLtBXoEPyVUIYMLjSXtaOJiVqYwiNXkcjbRVaYdHEDui...   \n",
       "1  cfThlYQxyfgECAQxyfgERMEnnRlJzdRVvfmKeKUPiNYYlE...   \n",
       "2  euXuRtWxmECcSToxSCwiIRNfefjspKIUsoLzSotdynuwhX...   \n",
       "\n",
       "                                           template  \\\n",
       "0  aYdHEDuiDOBpzyDbskrfMyIORmDzpzosSVQtIHcdjpZYEKoI   \n",
       "1                                            QxyfgE   \n",
       "2        XibKMYRWdeWfCKcwUHNEnWdcsLsYUkPvgPBoTMLOmU   \n",
       "\n",
       "                                                 ids  \n",
       "0                      [490, 385, 327, 225, 141, 38]  \n",
       "1  [496, 478, 433, 394, 385, 371, 361, 351, 332, ...  \n",
       "2                      [398, 264, 220, 160, 104, 45]  "
      ]
     },
     "execution_count": 3,
     "metadata": {},
     "output_type": "execute_result"
    }
   ],
   "source": [
    "df = pd.read_csv(path)\n",
    "df['ids'] = df['ids'].apply(eval)\n",
    "df.head(3)"
   ]
  },
  {
   "cell_type": "code",
   "execution_count": 14,
   "metadata": {},
   "outputs": [
    {
     "name": "stdout",
     "output_type": "stream",
     "text": [
      "aYdHEDuiDOBpzyDbskrfMyIORmDzpzosSVQtIHcdjpZYEKoI\n",
      "6 [490, 385, 327, 225, 141, 38]\n",
      "6 set()\n",
      "wP\n"
     ]
    }
   ],
   "source": [
    "idx = 0\n",
    "s, t, i = df.iloc[idx]\n",
    "gt = [m.start() for m in re.finditer(f'(?={t})', s)]\n",
    "print(t)\n",
    "print(len(i), i)\n",
    "print(len(gt), set(gt) - set(i))\n",
    "print(s[92:94])"
   ]
  },
  {
   "cell_type": "code",
   "execution_count": null,
   "metadata": {},
   "outputs": [],
   "source": []
  }
 ],
 "metadata": {
  "kernelspec": {
   "display_name": "jupyter_env",
   "language": "python",
   "name": "python3"
  },
  "language_info": {
   "codemirror_mode": {
    "name": "ipython",
    "version": 3
   },
   "file_extension": ".py",
   "mimetype": "text/x-python",
   "name": "python",
   "nbconvert_exporter": "python",
   "pygments_lexer": "ipython3",
   "version": "3.9.7"
  },
  "orig_nbformat": 4,
  "vscode": {
   "interpreter": {
    "hash": "11e7b04fea54ca48423a4346d276b2eeee041e75d91fae35da36614c12a42435"
   }
  }
 },
 "nbformat": 4,
 "nbformat_minor": 2
}
