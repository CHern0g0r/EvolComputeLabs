{
 "cells": [
  {
   "cell_type": "code",
   "execution_count": 16,
   "metadata": {},
   "outputs": [],
   "source": [
    "import pandas as pd\n",
    "import numpy as np"
   ]
  },
  {
   "cell_type": "code",
   "execution_count": 8,
   "metadata": {},
   "outputs": [],
   "source": [
    "path = '../test/test.csv'"
   ]
  },
  {
   "cell_type": "code",
   "execution_count": 13,
   "metadata": {},
   "outputs": [
    {
     "data": {
      "text/html": [
       "<div>\n",
       "<style scoped>\n",
       "    .dataframe tbody tr th:only-of-type {\n",
       "        vertical-align: middle;\n",
       "    }\n",
       "\n",
       "    .dataframe tbody tr th {\n",
       "        vertical-align: top;\n",
       "    }\n",
       "\n",
       "    .dataframe thead th {\n",
       "        text-align: right;\n",
       "    }\n",
       "</style>\n",
       "<table border=\"1\" class=\"dataframe\">\n",
       "  <thead>\n",
       "    <tr style=\"text-align: right;\">\n",
       "      <th></th>\n",
       "      <th>string</th>\n",
       "      <th>template</th>\n",
       "      <th>ids</th>\n",
       "    </tr>\n",
       "  </thead>\n",
       "  <tbody>\n",
       "    <tr>\n",
       "      <th>0</th>\n",
       "      <td>yzCNzavALLGTwzkIvmbIxhqpWRvZGwkGULkiTxxjMWDTCs...</td>\n",
       "      <td>UXfmgZhxrdoNISdqecNJYCBcqURpvvmAPoubeiwivaJa</td>\n",
       "      <td>[427, 266, 165, 95]</td>\n",
       "    </tr>\n",
       "    <tr>\n",
       "      <th>1</th>\n",
       "      <td>xHdqWUrFzUWOMKvEvxVMMNbUmvWTAStDJchhkwycRtViaS...</td>\n",
       "      <td>gdZeiwFgixlPErEFULvcqTSZhhKtTIySYlJyvmZUMxVgwy...</td>\n",
       "      <td>[471, 156]</td>\n",
       "    </tr>\n",
       "    <tr>\n",
       "      <th>2</th>\n",
       "      <td>nvwGTIOMPaJKmCOhvCwbwhNewvzzOKbXdeQfMKQqlpxoys...</td>\n",
       "      <td>zzOKbXdeQfMKQqlpxoysJFRXRWdAnVIqzyZwN</td>\n",
       "      <td>[424, 244, 185, 77, 26]</td>\n",
       "    </tr>\n",
       "  </tbody>\n",
       "</table>\n",
       "</div>"
      ],
      "text/plain": [
       "                                              string  \\\n",
       "0  yzCNzavALLGTwzkIvmbIxhqpWRvZGwkGULkiTxxjMWDTCs...   \n",
       "1  xHdqWUrFzUWOMKvEvxVMMNbUmvWTAStDJchhkwycRtViaS...   \n",
       "2  nvwGTIOMPaJKmCOhvCwbwhNewvzzOKbXdeQfMKQqlpxoys...   \n",
       "\n",
       "                                            template                      ids  \n",
       "0       UXfmgZhxrdoNISdqecNJYCBcqURpvvmAPoubeiwivaJa      [427, 266, 165, 95]  \n",
       "1  gdZeiwFgixlPErEFULvcqTSZhhKtTIySYlJyvmZUMxVgwy...               [471, 156]  \n",
       "2              zzOKbXdeQfMKQqlpxoysJFRXRWdAnVIqzyZwN  [424, 244, 185, 77, 26]  "
      ]
     },
     "execution_count": 13,
     "metadata": {},
     "output_type": "execute_result"
    }
   ],
   "source": [
    "df = pd.read_csv(path)\n",
    "df['ids'] = df['ids'].apply(eval)\n",
    "df.head(3)"
   ]
  },
  {
   "cell_type": "code",
   "execution_count": 28,
   "metadata": {},
   "outputs": [
    {
     "name": "stdout",
     "output_type": "stream",
     "text": [
      "True\n"
     ]
    }
   ],
   "source": [
    "idx = np.random.randint(0, len(df))\n",
    "barr = []\n",
    "for idx in range(len(df)):\n",
    "    s, t, ids = df.iloc[idx]\n",
    "    arr = []\n",
    "    prnts = []\n",
    "    # print(t)\n",
    "    # print('-'*30)\n",
    "    for i in ids:\n",
    "        prnts += [s[i:i+len(t)]]\n",
    "        arr += [s[i:i+len(t)] == t]\n",
    "    # print(all(arr))\n",
    "    # print('\\n'.join(prnts))\n",
    "    barr += [all(arr)]\n",
    "print(all(barr))"
   ]
  },
  {
   "cell_type": "code",
   "execution_count": null,
   "metadata": {},
   "outputs": [],
   "source": []
  }
 ],
 "metadata": {
  "kernelspec": {
   "display_name": "default_env",
   "language": "python",
   "name": "python3"
  },
  "language_info": {
   "codemirror_mode": {
    "name": "ipython",
    "version": 3
   },
   "file_extension": ".py",
   "mimetype": "text/x-python",
   "name": "python",
   "nbconvert_exporter": "python",
   "pygments_lexer": "ipython3",
   "version": "3.10.8 (main, Nov  1 2022, 14:18:21) [GCC 12.2.0]"
  },
  "orig_nbformat": 4,
  "vscode": {
   "interpreter": {
    "hash": "66f6f9b7299ca1ed62799b2d9192cd877959e84968dc571bc079d1e8e05124d9"
   }
  }
 },
 "nbformat": 4,
 "nbformat_minor": 2
}
